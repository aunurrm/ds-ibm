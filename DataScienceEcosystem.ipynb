{
  "metadata": {
    "kernelspec": {
      "name": "python",
      "display_name": "Python (Pyodide)",
      "language": "python"
    },
    "language_info": {
      "codemirror_mode": {
        "name": "python",
        "version": 3
      },
      "file_extension": ".py",
      "mimetype": "text/x-python",
      "name": "python",
      "nbconvert_exporter": "python",
      "pygments_lexer": "ipython3",
      "version": "3.8"
    }
  },
  "nbformat_minor": 4,
  "nbformat": 4,
  "cells": [
    {
      "cell_type": "markdown",
      "source": "# FINAL ASSIGNMENT",
      "metadata": {}
    },
    {
      "cell_type": "markdown",
      "source": "**Exercise 1: Create a Jupyter Notebook**<br>\nCreate a new Jupyter notebook called **DataScienceEcosystem.ipynb**",
      "metadata": {}
    },
    {
      "cell_type": "markdown",
      "source": "**Exercise 2: Create markdown cell with title of the notebook**<br>\nCreate a markdown cell with the title Data Science Tools and Ecosystem using H1 style heading.",
      "metadata": {}
    },
    {
      "cell_type": "markdown",
      "source": "# Data Science Tools and Ecosystem ",
      "metadata": {}
    },
    {
      "cell_type": "markdown",
      "source": "**Exercise 3 - Create a markdown cell for an introduction**<br>\nWrite an introductory sentence about the notebook.",
      "metadata": {}
    },
    {
      "cell_type": "markdown",
      "source": "As a data scientist, knowledge about various tools that you can use to analyze data and derive conclusions is very important. In this notebook, Data Science Tools and Ecosystem are summarized.",
      "metadata": {}
    },
    {
      "cell_type": "markdown",
      "source": "**Exercise 10 - Insert a markdown cell to list Objectives**",
      "metadata": {}
    },
    {
      "cell_type": "markdown",
      "source": "**Objective:**\n- Describe the Data Scientist’s tool kit which includes: Libraries & Packages, Data sets, Machine learning models, and Big Data tools   \n- Utilize languages commonly used by data scientists like Python, R, and SQL \n- Demonstrate working knowledge of tools such as Jupyter notebooks and RStudio and utilize their various features \n- Create and manage source code for data science using Git repositories and GitHub\n",
      "metadata": {}
    },
    {
      "cell_type": "markdown",
      "source": "**Exercise 4 - Create a markdown cell to list data science languages**",
      "metadata": {}
    },
    {
      "cell_type": "markdown",
      "source": "Some of the popular languages that Data Scientists use are:\n1. Python\n2. R\n3. Julia\n4. Scala",
      "metadata": {}
    },
    {
      "cell_type": "markdown",
      "source": "**Exercise 5 - Create a markdown cell to list data science libraries**",
      "metadata": {}
    },
    {
      "cell_type": "markdown",
      "source": "Some of the commonly used libraries used by Data Scientists include:\n1. Pandas\n2. Numpy\n3. Matplotlib\n4. Seaborn",
      "metadata": {}
    },
    {
      "cell_type": "markdown",
      "source": "**Exercise 6 - Create a markdown cell with a table of Data Science tools**",
      "metadata": {}
    },
    {
      "cell_type": "markdown",
      "source": "|Data Science Tools|\n|------------------|\n| Jupyter Notebooks |\n| Apache Zeppelin |\n| RStudio |",
      "metadata": {}
    },
    {
      "cell_type": "markdown",
      "source": "**Exercise 7 - Create a markdown cell introducing arithmetic expression examples**",
      "metadata": {}
    },
    {
      "cell_type": "markdown",
      "source": "### Below are a few examples of evaluating arithmetic expressions in Python.",
      "metadata": {}
    },
    {
      "cell_type": "markdown",
      "source": "**Exercise 8 - Create a code cell to multiply and add numbers**",
      "metadata": {}
    },
    {
      "cell_type": "code",
      "source": "# This a simple arithmetic expression in Python.\n(3*4)+5",
      "metadata": {
        "trusted": true
      },
      "outputs": [
        {
          "execution_count": 4,
          "output_type": "execute_result",
          "data": {
            "text/plain": "17"
          },
          "metadata": {}
        }
      ],
      "execution_count": 4
    },
    {
      "cell_type": "markdown",
      "source": "**Exercise 9 - Create a code cell to convert minutes to hours**",
      "metadata": {}
    },
    {
      "cell_type": "code",
      "source": "# This will convert 200 minutes to hours by diving by 60.\nm = 200\nh = m/60\nprint(m, \"minutes =\", h, \"hours\")",
      "metadata": {
        "trusted": true
      },
      "outputs": [
        {
          "name": "stdout",
          "text": "200 minutes = 3.3333333333333335 hours\n",
          "output_type": "stream"
        }
      ],
      "execution_count": 5
    },
    {
      "cell_type": "markdown",
      "source": "**Exercise 11 - Create a markdown cell to indicate the Author's name**",
      "metadata": {}
    },
    {
      "cell_type": "markdown",
      "source": "## Author\nAunur Rofiq Mulyarto",
      "metadata": {}
    },
    {
      "cell_type": "code",
      "source": "",
      "metadata": {
        "trusted": true
      },
      "outputs": [],
      "execution_count": null
    }
  ]
}